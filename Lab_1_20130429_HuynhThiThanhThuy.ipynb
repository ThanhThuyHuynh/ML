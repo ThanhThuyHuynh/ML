{
  "nbformat": 4,
  "nbformat_minor": 0,
  "metadata": {
    "colab": {
      "provenance": [],
      "authorship_tag": "ABX9TyMASHcFlW65CwGrC7NZuAqk",
      "include_colab_link": true
    },
    "kernelspec": {
      "name": "python3",
      "display_name": "Python 3"
    },
    "language_info": {
      "name": "python"
    }
  },
  "cells": [
    {
      "cell_type": "markdown",
      "metadata": {
        "id": "view-in-github",
        "colab_type": "text"
      },
      "source": [
        "<a href=\"https://colab.research.google.com/github/ThanhThuyHuynh/ML/blob/main/Lab_1_20130429_HuynhThiThanhThuy.ipynb\" target=\"_parent\"><img src=\"https://colab.research.google.com/assets/colab-badge.svg\" alt=\"Open In Colab\"/></a>"
      ]
    },
    {
      "cell_type": "markdown",
      "source": [
        "Task 1:\n"
      ],
      "metadata": {
        "id": "mEKyG2qe_c29"
      }
    },
    {
      "cell_type": "code",
      "execution_count": null,
      "metadata": {
        "colab": {
          "base_uri": "https://localhost:8080/"
        },
        "id": "_-YD4PTRA9nL",
        "outputId": "993d274f-9c3b-4445-c643-2e1d1ca66b13"
      },
      "outputs": [
        {
          "output_type": "stream",
          "name": "stdout",
          "text": [
            "Nhập chiều dài mảng:3\n",
            "Nhập một số nguyên bất kì:23\n",
            "ok\n",
            "Nhập một số nguyên bất kì:-9\n",
            "ok\n",
            "Nhập một số nguyên bất kì:7\n",
            "ok\n",
            "Số nhỏ nhất là:  -9\n",
            "Số lớn nhất là:  23\n",
            "Tổng các phần tử trong mảng là:  21\n",
            "Tổng các phần tử là số dương trong mảng là:  2\n",
            "Tổng các phần tử là số âm trong mảng là:  1\n",
            "Hello mảng của bạn nè:  [-9, 7, 23]\n"
          ]
        }
      ],
      "source": [
        "array = []\n",
        "n = input('Nhập chiều dài mảng:')\n",
        "i = 0\n",
        "while i < int(n):\n",
        "  a = input('Nhập một số nguyên bất kì:')\n",
        "  array.append(int(a))\n",
        "  print('ok')\n",
        "  i+=1\n",
        "\n",
        "array.sort()\n",
        "mi = min(array)\n",
        "ma = max(array)\n",
        "su = sum(array)\n",
        "\n",
        "# checkNo\n",
        "def checkPositive(array):\n",
        "  count = 0\n",
        "  for n in array:\n",
        "    if n > 0:\n",
        "       count+=1\n",
        "  return count\n",
        "\n",
        "positive = checkPositive(array)\n",
        "negative = len(array) - positive\n",
        "\n",
        "# print console\n",
        "print('Số nhỏ nhất là: ',mi)\n",
        "print('Số lớn nhất là: ',ma)\n",
        "print('Tổng các phần tử trong mảng là: ',su)\n",
        "print('Tổng các phần tử là số dương trong mảng là: ',positive)\n",
        "print('Tổng các phần tử là số âm trong mảng là: ',negative)\n",
        "print('Hello mảng của bạn nè: ', array)"
      ]
    },
    {
      "cell_type": "markdown",
      "source": [
        "Task 2:"
      ],
      "metadata": {
        "id": "S-HMAles_pgl"
      }
    },
    {
      "cell_type": "code",
      "source": [
        "n = int(input('Nhập vào một số bất kỳ: '))\n",
        "# S(n)\n",
        "def Sn(n):\n",
        "  print('số n: ',n)\n",
        "  if n == 0: \n",
        "    return 1\n",
        "  else:\n",
        "    return Sn(n-1) + 1/(2*n+1)\n",
        "  \n",
        "\n",
        "print('Halo ra tổng rùi nè: ',Sn(n))\n",
        "\n",
        "\n"
      ],
      "metadata": {
        "colab": {
          "base_uri": "https://localhost:8080/"
        },
        "id": "5B41kKmGJuFW",
        "outputId": "06d819c5-5c98-4644-aac3-883ad160e6a7"
      },
      "execution_count": null,
      "outputs": [
        {
          "output_type": "stream",
          "name": "stdout",
          "text": [
            "Nhập vào một số bất kỳ: 2\n",
            "số n:  2\n",
            "số n:  1\n",
            "số n:  0\n",
            "Halo ra tổng rùi nè:  1.5333333333333332\n"
          ]
        }
      ]
    },
    {
      "cell_type": "markdown",
      "source": [
        "Task 3:"
      ],
      "metadata": {
        "id": "zqx8GNsX_sQi"
      }
    },
    {
      "cell_type": "code",
      "source": [
        "import datetime\n",
        "\n",
        "class Product:\n",
        "  def __init__(self, name, type, price, expiredDate):\n",
        "    self.__name = name\n",
        "    self.__type = type\n",
        "    self.__price = price\n",
        "    self.__expiredDate = expiredDate\n",
        "\n",
        "  def __print__(self):\n",
        "    return 'Name: ',self.__name,'\\t', 'Type: ', self.__type,'\\t','Price: ', self.__price,'\\t', 'EXP: ', str(self.__expireDate.strftime('%d/%mm/%yyyy'))\n",
        "\n",
        "class OrderItem:\n",
        "  def __init__(self, item, amount):\n",
        "    self.item = item\n",
        "    self.__amount = amount\n",
        "   \n",
        "class Order:\n",
        "  def __init__(self, id, customer, employee, date, items):\n",
        "    self.__id = id\n",
        "    self.__customer = customer\n",
        "    self.__employee = employee\n",
        "    self.__date = date\n",
        "    self._items = items\n",
        "  \n",
        "  def Order():\n",
        "    return null\n",
        "\n",
        "class OrderManager:\n",
        "  def __init__(self, orders):\n",
        "    self.__orders = orders\n",
        "  \n",
        "time = datetime.datetime.now()\n",
        "p1 = Product('cake', 'sweet', 2300, time)\n"
      ],
      "metadata": {
        "id": "gUeXQwsnKteV"
      },
      "execution_count": null,
      "outputs": []
    }
  ]
}